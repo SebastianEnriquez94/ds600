{
 "cells": [
  {
   "cell_type": "markdown",
   "metadata": {},
   "source": [
    "# Ejercicio 10\n",
    "## ¿Que edad necesita menos cotizaciones para comprar un seguro?\n"
   ]
  },
  {
   "cell_type": "code",
   "execution_count": 1,
   "metadata": {
    "collapsed": false
   },
   "outputs": [
    {
     "name": "stdout",
     "output_type": "stream",
     "text": [
      "Para comprar la edad que menos cotiza es: 75\n"
     ]
    }
   ],
   "source": [
    "import pandas as pd #Importamos las librerias que vamos a usar\n",
    "import seaborn as sns\n",
    "import matplotlib.pyplot as plt\n",
    "\n",
    "allstate = pd.read_csv('allstate.csv') #Permite leer el archivo csv\n",
    "\n",
    "datos = allstate[['record_type','shopping_pt','age_youngest']] #Encuentra la data dentro del archivo csv bajo las columnas \n",
    "#record_type, shopping_pt y age_youngest\n",
    "\n",
    "purchasedInsurance = datos[datos.record_type == 1] #Esta variable revisa que la columna record_type sea = 1 que significa \n",
    "#que si se compro un seguro\n",
    "smallestCot = min(purchasedInsurance.shopping_pt) #Busca la edad minima donde la columna record_type es igual a 1\n",
    "cantCont = purchasedInsurance[purchasedInsurance.shopping_pt == smallestCot]\n",
    "mode = cantCont.mode() #Sacamos la moda para ver cual es la edad que mas repite un valor bajo\n",
    "print 'La edad que menos veces cotiza es: ' + str(int(mode.age_youngest))"
   ]
  }
 ],
 "metadata": {
  "kernelspec": {
   "display_name": "Python 2",
   "language": "python",
   "name": "python2"
  },
  "language_info": {
   "codemirror_mode": {
    "name": "ipython",
    "version": 2
   },
   "file_extension": ".py",
   "mimetype": "text/x-python",
   "name": "python",
   "nbconvert_exporter": "python",
   "pygments_lexer": "ipython2",
   "version": "2.7.11"
  }
 },
 "nbformat": 4,
 "nbformat_minor": 0
}
