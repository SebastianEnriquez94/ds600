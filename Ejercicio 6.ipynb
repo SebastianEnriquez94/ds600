{
 "cells": [
  {
   "cell_type": "markdown",
   "metadata": {},
   "source": [
    "# Ejercicio Número 6\n",
    "## 6. ¿Que estado, en promedio, necesita menos cotizaciones?"
   ]
  },
  {
   "cell_type": "code",
   "execution_count": null,
   "metadata": {
    "collapsed": true
   },
   "outputs": [],
   "source": [
    "bystate = allstate.groupby('state')['shopping_pt'] #agrupa a los estados con sus numeros de cotizaciones\n",
    "bystate.describe()\n",
    "cporestado = bystate.mean() #las cotizaciones promedio por estado\n",
    "cporestado\n",
    "minestado = cporestado.min() #encuentra el valor menor promedio de cotizaciones que se hicieron\n",
    "minestado #se compraa el resultado con el listado de cotizaciones y se encuenttra que es dakota del sur"
   ]
  }
 ],
 "metadata": {
  "kernelspec": {
   "display_name": "Python 2",
   "language": "python",
   "name": "python2"
  },
  "language_info": {
   "codemirror_mode": {
    "name": "ipython",
    "version": 2
   },
   "file_extension": ".py",
   "mimetype": "text/x-python",
   "name": "python",
   "nbconvert_exporter": "python",
   "pygments_lexer": "ipython2",
   "version": "2.7.11"
  }
 },
 "nbformat": 4,
 "nbformat_minor": 0
}
