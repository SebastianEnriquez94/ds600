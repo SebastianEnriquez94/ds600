{
 "cells": [
  {
   "cell_type": "markdown",
   "metadata": {},
   "source": [
    "# Ejercicio 9:\n",
    "## ¿Del total de carros que porcentaje tiene menos de k años?"
   ]
  },
  {
   "cell_type": "markdown",
   "metadata": {},
   "source": []
  },
  {
   "cell_type": "code",
   "execution_count": 3,
   "metadata": {
    "collapsed": false
   },
   "outputs": [
    {
     "name": "stdout",
     "output_type": "stream",
     "text": [
      "    Edad       Porcentaje\n",
      "0      0             0.0%\n",
      "1      1  0.872605595799%\n",
      "2      2   11.6430088583%\n",
      "3      3   19.2174659413%\n",
      "4      4   25.2890271162%\n",
      "5      5   31.4507800838%\n",
      "6      6   36.3821666774%\n",
      "7      7   43.0507975209%\n",
      "8      8   50.0785420196%\n",
      "9      9    56.760701632%\n",
      "10    10   63.4075361256%\n",
      "11    11   69.3152488767%\n",
      "12    12   74.7527617479%\n",
      "13    13   79.5799768207%\n",
      "14    14   83.5826885873%\n",
      "15    15   87.3445882669%\n",
      "16    16    90.206824813%\n",
      "17    17   92.4447838328%\n",
      "18    18   94.1539183073%\n",
      "19    19   95.3985650486%\n",
      "20    20   96.5131852885%\n",
      "21    21   97.2977035666%\n",
      "22    22   97.8564417233%\n",
      "23    23   98.2668143808%\n",
      "24    24   98.6146540619%\n",
      "25    25   98.8759096218%\n",
      "26    26   99.0929712033%\n",
      "27    27   99.2539635535%\n",
      "28    28   99.3776766294%\n",
      "29    29   99.4810965518%\n",
      "..   ...              ...\n",
      "56    56   99.9854189935%\n",
      "57    57   99.9854189935%\n",
      "58    58   99.9864712311%\n",
      "59    59   99.9876737883%\n",
      "60    60   99.9891769849%\n",
      "61    61   99.9897782635%\n",
      "62    62   99.9918827386%\n",
      "63    63   99.9941375335%\n",
      "64    64   99.9941375335%\n",
      "65    65   99.9950394514%\n",
      "66    66   99.9957910497%\n",
      "67    67   99.9957910497%\n",
      "68    68   99.9957910497%\n",
      "69    69   99.9957910497%\n",
      "70    70   99.9957910497%\n",
      "71    71   99.9957910497%\n",
      "72    72   99.9957910497%\n",
      "73    73   99.9957910497%\n",
      "74    74   99.9957910497%\n",
      "75    75   99.9984968035%\n",
      "76    76   99.9993987214%\n",
      "77    77   99.9993987214%\n",
      "78    78   99.9993987214%\n",
      "79    79   99.9993987214%\n",
      "80    80   99.9993987214%\n",
      "81    81   99.9993987214%\n",
      "82    82   99.9993987214%\n",
      "83    83   99.9993987214%\n",
      "84    84   99.9993987214%\n",
      "85    85   99.9993987214%\n",
      "\n",
      "[86 rows x 2 columns]\n"
     ]
    }
   ],
   "source": [
    "import pandas as pd #Importamos las librerias que vamos a usar\n",
    "import seaborn as sns\n",
    "import matplotlib.pyplot as plt\n",
    "\n",
    "allstate = pd.read_csv('allstate.csv') #Permite leer el archivo csv\n",
    "\n",
    "dataFrame = allstate[['car_age']] #Encuentra la data dentro del archivo csv bajo la columna car_age\n",
    "\n",
    "def underCarAge(edad): #Esta funcion nos permite hace un programa eficiente ya que no hay necesidad de escribir tanto codigo\n",
    "    x = allstate[['car_age']]\n",
    "    temporary = x[x.car_age < edad] #Revisa cuales carros tienen edad menor a la edad pasada a la funcion\n",
    "    porc = (temporary.count() / x.count())*100 #Obtiene un porcentaje de cuantos carros son de edad menor a la edad pasada en el parametro\n",
    "    return porc\n",
    "\n",
    "#underCarAge(86)\n",
    "max_value = dataFrame.max()\n",
    "min_value = dataFrame.min()\n",
    "listaDeValores = []\n",
    "for i in range(min_value,max_value+1): #Este loop permite pasara todas las edades como parametro de la funcion de forma mas eficiente\n",
    "    row = [int(i), str(str(float(underCarAge(i)))+'%')]\n",
    "    listaDeValores.append(row)\n",
    "\n",
    "#Este bloque toma los datos y los organiza en una tabla\n",
    "nombre = pd.Series((v[0] for v in listaDeValores))\n",
    "nombreDeSerie = pd.Series((v[1] for v in listaDeValores))\n",
    "newDataFrame = pd.concat([nombre,nombreDeSerie], axis = 1)\n",
    "newDataFrame.columns = ('Edad','Porcentaje')\n",
    "\n",
    "print newDataFrame"
   ]
  },
  {
   "cell_type": "markdown",
   "metadata": {},
   "source": []
  },
  {
   "cell_type": "code",
   "execution_count": null,
   "metadata": {
    "collapsed": true
   },
   "outputs": [],
   "source": []
  },
  {
   "cell_type": "markdown",
   "metadata": {},
   "source": []
  },
  {
   "cell_type": "code",
   "execution_count": null,
   "metadata": {
    "collapsed": true
   },
   "outputs": [],
   "source": []
  },
  {
   "cell_type": "markdown",
   "metadata": {},
   "source": []
  },
  {
   "cell_type": "code",
   "execution_count": null,
   "metadata": {
    "collapsed": true
   },
   "outputs": [],
   "source": []
  },
  {
   "cell_type": "markdown",
   "metadata": {},
   "source": []
  },
  {
   "cell_type": "code",
   "execution_count": null,
   "metadata": {
    "collapsed": false
   },
   "outputs": [],
   "source": []
  }
 ],
 "metadata": {
  "kernelspec": {
   "display_name": "Python 2",
   "language": "python",
   "name": "python2"
  },
  "language_info": {
   "codemirror_mode": {
    "name": "ipython",
    "version": 2
   },
   "file_extension": ".py",
   "mimetype": "text/x-python",
   "name": "python",
   "nbconvert_exporter": "python",
   "pygments_lexer": "ipython2",
   "version": "2.7.11"
  }
 },
 "nbformat": 4,
 "nbformat_minor": 0
}
