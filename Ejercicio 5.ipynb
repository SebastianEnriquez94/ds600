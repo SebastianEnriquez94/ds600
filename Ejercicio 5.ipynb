{
 "cells": [
  {
   "cell_type": "markdown",
   "metadata": {},
   "source": [
    "# Ejercicio 5\n",
    "## ¿Probabilidad de que alguien de edad k compre un seguro?"
   ]
  },
  {
   "cell_type": "code",
   "execution_count": null,
   "metadata": {
    "collapsed": true
   },
   "outputs": [],
   "source": [
    "#Este codigo se tarda en correr ya que revisa muchos datos, debe revisar 2 columnas por lo cual pido paciencia. Gracias\n",
    "import pandas as pd\n",
    "import seaborn as sns\n",
    "import matplotlib.pyplot as plt #importamos librerias\n",
    "\n",
    "allstate = pd.read_csv('allstate.csv') #lee la data del csv\n",
    "datos = allstate[['age_youngest']] #especificamente lee la data en la columna age youngest\n",
    "\n",
    "\n",
    "def probAge(edad): #Funcion para ser mas eficientes ya que recilamos codigo.\n",
    "\n",
    "    datos=allstate[allstate['age_youngest']==edad] #Verifica que age youngest sea igual a la edad que pasa el parametro\n",
    "    allData=sum(allstate['record_type']==1) #Verifica que si haya comprado el seguro\n",
    "    \n",
    "    datos=allstate[allstate['age_youngest']==edad]\n",
    "    purchased=sum(datos['record_type']==1)\n",
    "    porc=((purchased/1.0)/(allData/1.0))*100 #Obtiene el porcentaje de cada edad\n",
    "    return porc\n",
    "\n",
    "#probAge(20)\n",
    "\n",
    "max_value = datos.max()\n",
    "min_value = datos.min()\n",
    "listaDeValores = []\n",
    "for i in range(min_value,max_value+1): #Este For mete todas las edades y sus probabilidades en un tabla\n",
    "    row = [int(i), str(str(float(probAge(i)))+'%')] #Para que sea mas facil leer los datos\n",
    "    listaDeValores.append(row)\n",
    "\n",
    "nombre = pd.Series((v[0] for v in listaDeValores))\n",
    "nombreDeSerie = pd.Series((v[1] for v in listaDeValores))\n",
    "newDataFrame = pd.concat([nombre,nombreDeSerie], axis = 1)\n",
    "newDataFrame.columns = ('Edad','Porcentaje')\n",
    "\n",
    "print newDataFrame"
   ]
  }
 ],
 "metadata": {
  "kernelspec": {
   "display_name": "Python 2",
   "language": "python",
   "name": "python2"
  },
  "language_info": {
   "codemirror_mode": {
    "name": "ipython",
    "version": 2
   },
   "file_extension": ".py",
   "mimetype": "text/x-python",
   "name": "python",
   "nbconvert_exporter": "python",
   "pygments_lexer": "ipython2",
   "version": "2.7.11"
  }
 },
 "nbformat": 4,
 "nbformat_minor": 0
}
