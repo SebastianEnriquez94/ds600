{
 "cells": [
  {
   "cell_type": "markdown",
   "metadata": {},
   "source": [
    "# Ejercicio número 4\n",
    "## ¿Que edad promedio tienen las personas dueñas de carros viejos y carros nuevos?"
   ]
  },
  {
   "cell_type": "code",
   "execution_count": null,
   "metadata": {
    "collapsed": true
   },
   "outputs": [],
   "source": [
    "new = (allstate.car_age <= 3)  #3 representa el primer cuadril carros nuevos\n",
    "old = (allstate.car_age >= 12) #12 años representa el ultimo cuadril o carros viejos\n",
    "\n",
    "young_new = (allstate.age_youngest[new].mean()) #promedio de edad de los jovenes con carros nuevos\n",
    "young_old = (allstate.age_youngest[old].mean())#promedio de edad de los jovenes con carros viejos\n",
    "old_new = (allstate.age_oldest[new].mean()) #ahora con los viejos y la edad de sus carros\n",
    "old_old = (allstate.age_oldest[old].mean())\n",
    "\n",
    "new_car_mean = (young_new + old_new)/2 #edad promedio de las personas con carros nuevos\n",
    "new_car_mean\n",
    "old_car_mean = (young_old + old_old)/2 #edad promedo de personas con carros viejos\n",
    "new_car_mean\n",
    "old_car_mean"
   ]
  }
 ],
 "metadata": {
  "kernelspec": {
   "display_name": "Python 2",
   "language": "python",
   "name": "python2"
  },
  "language_info": {
   "codemirror_mode": {
    "name": "ipython",
    "version": 2
   },
   "file_extension": ".py",
   "mimetype": "text/x-python",
   "name": "python",
   "nbconvert_exporter": "python",
   "pygments_lexer": "ipython2",
   "version": "2.7.11"
  }
 },
 "nbformat": 4,
 "nbformat_minor": 0
}
