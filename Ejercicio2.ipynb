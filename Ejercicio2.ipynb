{
 "cells": [
  {
   "cell_type": "markdown",
   "metadata": {},
   "source": [
    "# Ejercicio 2\n",
    "## ¿Qué tan probable es que se compre un seguro después de la k-ésima cotización?\n",
    "\n"
   ]
  },
  {
   "cell_type": "code",
   "execution_count": null,
   "metadata": {
    "collapsed": true
   },
   "outputs": [],
   "source": [
    "import pandas as pd\n",
    "import seaborn as sns\n",
    "import matplotlib.pyplot as plt #importacion de librerias\n",
    "\n",
    "allstate = pd.read_csv('allstate.csv') #lee el documento csv\n",
    "\n",
    "dataframe = allstate[allstate.record_type==1].groupby(\"state\") #verifica la compra y lo agrupa por estado\n",
    "\n",
    "dataframe.shopping_pt.mean() #calcula la media\n",
    "\n",
    "dataframe.shopping_pt.mean().min() \n",
    "\n",
    "dataframe.shopping_pt.mean()"
   ]
  }
 ],
 "metadata": {
  "kernelspec": {
   "display_name": "Python 2",
   "language": "python",
   "name": "python2"
  },
  "language_info": {
   "codemirror_mode": {
    "name": "ipython",
    "version": 2
   },
   "file_extension": ".py",
   "mimetype": "text/x-python",
   "name": "python",
   "nbconvert_exporter": "python",
   "pygments_lexer": "ipython2",
   "version": "2.7.11"
  }
 },
 "nbformat": 4,
 "nbformat_minor": 0
}
