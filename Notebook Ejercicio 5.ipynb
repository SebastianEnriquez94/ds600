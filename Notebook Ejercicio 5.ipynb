{
 "cells": [
  {
   "cell_type": "markdown",
   "metadata": {},
   "source": [
    "# Ejercicio 5\n",
    "## ¿Probabilidad de que alguien de edad k compre o cotize un seguro?"
   ]
  },
  {
   "cell_type": "code",
   "execution_count": null,
   "metadata": {
    "collapsed": true
   },
   "outputs": [],
   "source": [
    "import pandas as pd #Importamos las librerias\n",
    "import seaborn as sns\n",
    "import matplotlib.pyplot as plt\n",
    "\n",
    "allstate = pd.read_csv('allstate.csv') #Esta variable nos permite leer los datos dentro del csv\n",
    "\n",
    "dataFrame = allstate[['age_youngest']] #Esta variable lee los datos dentro de la columna age_youngest\n",
    "\n",
    "def agePurchase(edad): #Esta funcion nos permite hace un programa eficiente ya que no hay necesidad de escribir tanto codigo\n",
    "    x = allstate[['age_youngest']]\n",
    "    temporary = x[x.age_youngest == edad ] #Revisa cuales personas tienen una edad igual a la pasada por la funcion\n",
    "    porc = (temporary.count() / x.count())*100 #Obtiene un porcentaje de cuantos personas son de la edad del parametro\n",
    "    return porc\n",
    "\n",
    "#agePurchase(86)\n",
    "max_value = dataFrame.max()\n",
    "min_value = dataFrame.min()\n",
    "listaDeValores = []\n",
    "for i in range(min_value,max_value+1): #Este loop permite pasara todas las edades como parametro de la funcion de forma mas eficiente\n",
    "    row = [int(i), str(str(float(agePurchase(i)))+'%')]\n",
    "    listaDeValores.append(row)\n",
    "\n",
    "#Este bloque toma los datos y los organiza en una tabla\n",
    "nombre = pd.Series((v[0] for v in listaDeValores))\n",
    "nombreDeSerie = pd.Series((v[1] for v in listaDeValores))\n",
    "newDataFrame = pd.concat([nombre,nombreDeSerie], axis = 1)\n",
    "newDataFrame.columns = ('Edad','Porcentaje')\n",
    "\n",
    "print newDataFrame"
   ]
  }
 ],
 "metadata": {
  "kernelspec": {
   "display_name": "Python 2",
   "language": "python",
   "name": "python2"
  },
  "language_info": {
   "codemirror_mode": {
    "name": "ipython",
    "version": 2
   },
   "file_extension": ".py",
   "mimetype": "text/x-python",
   "name": "python",
   "nbconvert_exporter": "python",
   "pygments_lexer": "ipython2",
   "version": "2.7.11"
  }
 },
 "nbformat": 4,
 "nbformat_minor": 0
}
