{
 "cells": [
  {
   "cell_type": "markdown",
   "metadata": {},
   "source": [
    "# Ejercicio 1\n",
    "## ¿Qué características tienen los grupos a los que se les cotiza los seguros más baratos?"
   ]
  },
  {
   "cell_type": "code",
   "execution_count": null,
   "metadata": {
    "collapsed": true
   },
   "outputs": [],
   "source": [
    "# -*- coding: utf-8 -*-\n",
    "\"\"\"\n",
    "Created on Tue Apr 12 10:32:15 2016\n",
    "\n",
    "@author: juliocastillo\n",
    "\"\"\"\n",
    "\n",
    "import pandas as pd\n",
    "import seaborn as sns\n",
    "import matplotlib.pyplot as plt\n",
    "\n",
    "allstate = pd.read_csv('/Users/juliocastillo/Desktop/IE/Tercer Semestre/Data Science/All State/allstate.csv')\n",
    "\n",
    "datosCuantitativos = ['day','group_size','car_age','age_oldest','age_youngest','C_previous','duration_previous','A','B','C','D','E','F','G','cost']\n",
    "datosCualitativos = ['customer_ID','shopping_pt','record_type','time','state','location','homeowner','car_value','risk_factor','married_couple']\n",
    "\n",
    "# Pregunta 1 ¿Qué características tienen los grupos a los que se les cotiza los seguros más baratos?\n",
    "\n",
    "\n",
    "allstate.info\n",
    "allstate.cost.describe()\n",
    "\n",
    "# Primer cuartil: 605\n",
    "a = allstate[(allstate.cost<605)]\n",
    "a.state.mode()\n",
    "# Estado que más se repite es Florida\n",
    "\n",
    "a.car_value.mode()\n",
    "# El value que más se repite en los carros asegurados por debajo de  la media es E (menor valor).\n",
    "\n",
    "a.risk_factor.mode()\n",
    "#El factor de riesgo que más se repite es 1 (el menor).\n",
    "\n",
    "sns.distplot(a.age_oldest)\n",
    "sns.distplot(allstate.age_oldest)\n",
    "a.age_oldest.describe()\n",
    "a.age_oldest.mode()\n",
    "#La edad que más se repite en los seguros más baratos por mucho es 75 años.\n",
    "\n",
    "menores = a[(a.age_oldest<75)]\n",
    "sns.distplot(menores.age_oldest)\n",
    "menores.age_oldest.mode()\n",
    "# De igual manera se repite que las personas mayores son más baratas de asegurar.\n",
    "\n",
    "sns.distplot(a.group_size)\n",
    "a.group_size.describe()\n",
    "#comparar con toda la base de datos para ver si afecta el grupo.\n",
    "\n",
    "b = allstate[(allstate.group_size > 1)]\n",
    "b.cost.describe()\n",
    "sns.distplot(b.cost)\n",
    "c =allstate[(allstate.group_size > 2)]\n",
    "c.cost.describe()\n",
    "sns.distplot(c.cost)\n",
    "#Se concluye que el tamaño del grupo no afecta signigicativamente el costo.\n",
    "\n",
    "a.car_age.describe()\n",
    "a.car_age.mode()\n",
    "sns.distplot(a.car_age)\n",
    "sns.distplot(allstate.car_age)\n",
    "#Los carros más frecuentemente asegurados por debajo del costo medio están entre 8 y 12 años\n",
    "\n",
    "a.homeowner.describe()\n",
    "a.homeowner.mode()\n",
    "#Es más común que las personas con un seguro barato sean dueños de casa.\n",
    "\n",
    "#Conclusión: Viven frecuentemente en el estado de Florida, tienen un carro con valor E(bajo), su factor de riesgo es bajo (1), su edad es de 75 años frecuentemente, sus carros tienen entre 8 y 12 años de antiguedad y frecuentemente son dueños de casas.\n",
    "\n",
    "\n"
   ]
  }
 ],
 "metadata": {
  "kernelspec": {
   "display_name": "Python 2",
   "language": "python",
   "name": "python2"
  },
  "language_info": {
   "codemirror_mode": {
    "name": "ipython",
    "version": 2
   },
   "file_extension": ".py",
   "mimetype": "text/x-python",
   "name": "python",
   "nbconvert_exporter": "python",
   "pygments_lexer": "ipython2",
   "version": "2.7.11"
  }
 },
 "nbformat": 4,
 "nbformat_minor": 0
}
