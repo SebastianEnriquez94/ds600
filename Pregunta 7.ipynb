{
 "cells": [
  {
   "cell_type": "markdown",
   "metadata": {},
   "source": [
    "# Pregunta 7\n",
    "## ¿Cuántas cotizaciones, previo la compra, realizan los consumidores del estado de Florida?"
   ]
  },
  {
   "cell_type": "code",
   "execution_count": null,
   "metadata": {
    "collapsed": true
   },
   "outputs": [],
   "source": [
    "import pandas as pd \n",
    "import numpy as np\n",
    "import seaborn as sns\n",
    "import matplotlib.pyplot as plt\n",
    "\n",
    "\n",
    "allstate=pd.read_csv(\"allstate.csv\")\n",
    "\n",
    "a = (allstate.state == \"FL\") & (allstate.shopping_pt == 1)\n",
    "a.sum()\n",
    "\n",
    "b = (allstate.state == \"FL\") & (allstate.shopping_pt == 2)\n",
    "b.sum()\n",
    "\n",
    "a.sum()-b.sum()\n",
    "\n",
    "c = (allstate.state == \"FL\") & (allstate.shopping_pt == 3)\n",
    "c.sum()\n",
    "\n",
    "d = (allstate.state == \"FL\") & (allstate.shopping_pt == 4)\n",
    "d.sum()\n",
    "\n",
    "c.sum()-d.sum()\n",
    "\n",
    "e = (allstate.state == \"FL\") & (allstate.shopping_pt == 5)\n",
    "e.sum()\n",
    "\n",
    "d.sum()-e.sum()\n",
    "\n",
    "\n",
    "f = (allstate.state == \"FL\") & (allstate.shopping_pt == 6)\n",
    "f.sum()\n",
    "\n",
    "e.sum()-f.sum()\n",
    "\n",
    "g = (allstate.state == \"FL\") & (allstate.shopping_pt == 7)\n",
    "g.sum()\n",
    "\n",
    "f.sum()-g.sum()\n",
    "\n",
    "h = (allstate.state == \"FL\") & (allstate.shopping_pt == 8)\n",
    "h.sum()\n",
    "\n",
    "g.sum()-h.sum()\n",
    "\n",
    "i = (allstate.state == \"FL\") & (allstate.shopping_pt == 9)\n",
    "i.sum()\n",
    "\n",
    "h.sum()-i.sum()\n",
    "\n",
    "j = (allstate.state == \"FL\") & (allstate.shopping_pt == 10)\n",
    "j.sum()\n",
    "\n",
    "i.sum()-j.sum()\n",
    "\n",
    "k = (allstate.state == \"FL\") & (allstate.shopping_pt == 11)\n",
    "k.sum()\n",
    "\n",
    "j.sum()-k.sum()\n",
    "\n",
    "l = (allstate.state == \"FL\") & (allstate.shopping_pt == 12)\n",
    "l.sum()\n",
    "\n",
    "k.sum()-l.sum()\n",
    "\n",
    "m = (allstate.state == \"FL\") & (allstate.shopping_pt == 13)\n",
    "m.sum()\n",
    "\n",
    "l.sum()-m.sum()"
   ]
  }
 ],
 "metadata": {
  "kernelspec": {
   "display_name": "Python 2",
   "language": "python",
   "name": "python2"
  },
  "language_info": {
   "codemirror_mode": {
    "name": "ipython",
    "version": 2
   },
   "file_extension": ".py",
   "mimetype": "text/x-python",
   "name": "python",
   "nbconvert_exporter": "python",
   "pygments_lexer": "ipython2",
   "version": "2.7.11"
  }
 },
 "nbformat": 4,
 "nbformat_minor": 0
}
